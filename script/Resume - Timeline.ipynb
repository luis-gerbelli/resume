{
 "cells": [
  {
   "cell_type": "code",
   "execution_count": null,
   "metadata": {
    "ExecuteTime": {
     "end_time": "2021-08-12T01:42:10.958325Z",
     "start_time": "2021-08-12T01:42:09.392938Z"
    }
   },
   "outputs": [],
   "source": [
    "import pandas as pd\n",
    "import plotly.express as px\n",
    "import plotly.graph_objs as go"
   ]
  },
  {
   "cell_type": "code",
   "execution_count": null,
   "metadata": {
    "ExecuteTime": {
     "end_time": "2021-08-12T01:42:12.205845Z",
     "start_time": "2021-08-12T01:42:12.132846Z"
    }
   },
   "outputs": [],
   "source": [
    "df = pd.DataFrame([['Workforce absenteeism prediction', '2019-12-01', '2020-02-29', 'Data scientist', 'Data scientist - Predictive analytics'],\n",
    "                   ['Sentences prediction for labor lawsuits', '2019-08-01', '2019-12-31', 'Data scientist', 'Data scientist - Predictive analytics'],\n",
    "                   ['Default prediction', '2019-04-01', '2019-11-30', 'Data scientist', 'Data scientist - Predictive analytics'],\n",
    "                   ['Churn prediction', '2018-12-01', '2019-02-28', 'Data scientist', 'Data scientist - Predictive analytics'],\n",
    "                   ['Recommender system', '2018-11-01', '2018-12-31', 'Data scientist', 'Data scientist - Predictive analytics'],\n",
    "                   ['Lifetime expectancy prediction for truck engines', '2017-03-01', '2017-11-30', 'Data scientist', 'Data scientist - Predictive analytics'],\n",
    "                   ['Text mining for classification of documents', '2017-07-01', '2017-08-31', 'Data scientist', 'Data scientist - Predictive analytics'],\n",
    "                   ['Planting failure prediction', '2017-03-01', '2017-04-30', 'Data scientist', 'Data scientist - Predictive analytics'],\n",
    "                   ['Sensitivity analysis for chicken productive chains', '2021-01-01', '2021-08-31', 'Data scientist', 'Data scientist - Prescritive analytics'],\n",
    "                   ['Pricing optimization', '2019-04-01', '2019-11-30', 'Data scientist', 'Data scientist - Prescritive analytics'],\n",
    "                   ['Low short term mine-to-ship transportation planning', '2017-12-01', '2018-10-31', 'Data scientist', 'Data scientist - Prescritive analytics'],\n",
    "                   ['Store location', '2017-09-01', '2018-03-31', 'Data scientist', 'Data scientist - Prescritive analytics'],\n",
    "                   ['Energy optimization', '2015-03-01', '2015-08-31', 'Data scientist', 'Data scientist - Prescritive analytics'],\n",
    "                   ['Cognitive and analytics practice leader for IBM Services Brazil', '2020-07-01', '2021-08-31', 'Management role', 'Management role - Practice leader'],\n",
    "                   ['SME for more than 15 data science initiatives', '2020-05-01', '2020-12-31', 'Management role', 'Management role - SME'],\n",
    "                   ['SME for a HR initiative', '2020-07-01', '2020-10-31', 'Management role', 'Management role - SME'],\n",
    "                   ['SME for advanced analytics', '2019-01-01', '2020-06-30', 'Management role', 'Management role - SME'],\n",
    "                   ['Wind forecast', '2020-10-01', '2021-03-31', 'Management role', 'Management role - Project Manager'],\n",
    "                   ['Store location', '2017-09-01', '2018-03-31', 'Management role', 'Management role - Project Manager'],\n",
    "                   ['Roadmap for an analytical environment', '2014-12-01', '2015-03-31', 'Management role', 'Management role - Project Manager'],\n",
    "                   ['Variable compensation for payroll', '2014-01-01', '2014-05-31', 'Management role', 'Management role - Project Manager'],\n",
    "                   ['SAP upgrading and SAP RH implementation', '2008-04-01', '2008-12-31', 'Management role', 'Management role - Project Manager'],\n",
    "                   ['Design of a smart center (CoC)', '2020-09-01', '2021-01-31', 'IT consultant', 'IT consultant'],\n",
    "                   ['Roadmap for an analytical environment', '2020-04-01', '2020-04-30', 'IT consultant', 'IT consultant'],\n",
    "                   ['Design of a new digital bank', '2016-11-01', '2016-12-31', 'IT consultant', 'IT consultant'],\n",
    "                   ['Package selection for an analytical environment', '2014-09-01', '2014-10-31', 'IT consultant', 'IT consultant'],\n",
    "                   ['Roadmap for an analytical environment', '2012-02-01', '2012-06-30', 'IT consultant', 'IT consultant'],\n",
    "                   ['Financial consolidation ', '2016-01-01', '2016-07-31', 'Financial consultant', 'Financial consultant - IBM Planning Analytics'],\n",
    "                   ['HR expenses planning', '2015-07-01', '2015-12-31', 'Financial consultant', 'Financial consultant - IBM Planning Analytics'],\n",
    "                   ['Budget planning ', '2014-05-01', '2014-12-31', 'Financial consultant', 'Financial consultant - IBM Planning Analytics'],\n",
    "                   ['Variable compensation for payroll', '2014-01-01', '2014-05-31', 'Financial consultant', 'Financial consultant - IBM Planning Analytics'],\n",
    "                   ['Budget planning ', '2013-06-01', '2013-11-30', 'Financial consultant', 'Financial consultant - IBM Planning Analytics'],\n",
    "                   ['Budget planning ', '2012-05-01', '2013-06-30', 'Financial consultant', 'Financial consultant - SAP BPC'],\n",
    "                   ['Budget planning ', '2010-08-01', '2011-08-31', 'Financial consultant', 'Financial consultant - SAP BPC'],\n",
    "                   ['Cash flow planning', '2010-04-01', '2010-08-31', 'Financial consultant', 'Financial consultant - SAP BPC'],\n",
    "                   ['Accouting consolidation planning', '2010-01-01', '2010-04-30', 'Financial consultant', 'Financial consultant - SAP BPC'],\n",
    "                   ['Budget planning ', '2009-03-01', '2009-12-31', 'Financial consultant', 'Financial consultant - SAP BPC'],\n",
    "                   ['Budget planning ', '2006-05-01', '2007-12-31', 'Financial consultant', 'Financial consultant - SAP BPC'],\n",
    "                   ['Functional specification for a SAP BW implementation', '2009-01-01', '2009-03-31', 'Business analyst', 'Business analyst'],\n",
    "                   ['Design of a global template for SAP', '2009-01-01', '2009-01-31', 'Business analyst', 'Business analyst'],\n",
    "                   ['Functional specification for a new product launches system', '2008-01-01', '2008-04-30', 'Business analyst', 'Business analyst'],\n",
    "                   ['Functional specification for a sale web site', '2005-12-01', '2006-03-31', 'Business analyst', 'Business analyst'],\n",
    "                   ['Logistic process improvements', '2005-05-01', '2005-10-31', 'Business analyst', 'Business analyst']],\n",
    "                  columns=['Project', 'Start', 'Finish', 'Category', 'Subcategory'])"
   ]
  },
  {
   "cell_type": "code",
   "execution_count": null,
   "metadata": {
    "ExecuteTime": {
     "end_time": "2021-08-12T01:42:14.774292Z",
     "start_time": "2021-08-12T01:42:14.717283Z"
    }
   },
   "outputs": [],
   "source": [
    "df.Start = df.Start.astype('datetime64')\n",
    "df.Finish = df.Finish.astype('datetime64')\n",
    "df.Category = df.Category.str.rstrip() + '  '"
   ]
  },
  {
   "cell_type": "code",
   "execution_count": null,
   "metadata": {
    "ExecuteTime": {
     "end_time": "2021-08-12T01:42:16.605475Z",
     "start_time": "2021-08-12T01:42:16.588476Z"
    }
   },
   "outputs": [],
   "source": [
    "colors = {'Business analyst  ': '#FFC30F',\n",
    "          'Financial consultant  ': '#FF5733',\n",
    "          'IT consultant  ': '#C70039',\n",
    "          'Management role  ': '#900C3F',\n",
    "          'Data scientist  ': '#581845'}"
   ]
  },
  {
   "cell_type": "code",
   "execution_count": null,
   "metadata": {
    "ExecuteTime": {
     "end_time": "2021-08-12T01:42:22.468835Z",
     "start_time": "2021-08-12T01:42:19.271125Z"
    }
   },
   "outputs": [],
   "source": [
    "fig = px.timeline(df, x_start='Start', x_end='Finish', y='Category', hover_name='Project', opacity=.9, template='plotly_white',\n",
    "                  height=300, color='Category', color_discrete_map=colors)\n",
    "fig.update_layout(\n",
    "    bargap=0,\n",
    "    bargroupgap=0.2,\n",
    "    xaxis_range=[df.Start.min(), df.Finish.max()],\n",
    "    xaxis= dict(showgrid=True,\n",
    "                rangeslider_visible=False,\n",
    "                side='top',\n",
    "                dtick='M12',\n",
    "                tickformat='%Y',\n",
    "                ticklen=0,                \n",
    "                tickfont=dict(family='Verdana', size=12, color='#555555')),\n",
    "    yaxis=dict(title='', automargin=True, showgrid=False, showticklabels=True,\n",
    "               tickfont=dict(family='Verdana', size=12, color='#555555')),\n",
    "    showlegend=False)\n",
    "fig.update_layout(title='', font=dict(family='Verdana', size=14, color='#555555'))\n",
    "fig.show()"
   ]
  },
  {
   "cell_type": "code",
   "execution_count": null,
   "metadata": {
    "ExecuteTime": {
     "end_time": "2021-08-12T01:43:44.161958Z",
     "start_time": "2021-08-12T01:43:43.461760Z"
    }
   },
   "outputs": [],
   "source": [
    "fig = px.timeline(df, x_start='Start', x_end='Finish', y='Category', hover_name='Project', opacity=.9, template='plotly_white',\n",
    "                  height=600, color='Category', color_discrete_map=colors)\n",
    "fig.update_layout(\n",
    "    bargap=0,\n",
    "    bargroupgap=0.2,\n",
    "    xaxis_range=[df.Start.min(), df.Finish.max()],\n",
    "    xaxis= dict(title=dict(text='Each box corresponds to a single project.<br> \\\n",
    "        Move the mouse over a specific box to get the project name and the project period.<br> \\\n",
    "        Click and drag a range of period to zoom.<br> \\\n",
    "        Double click to reset the chart.', font=dict(family='Verdana', size=12, color='#555555')),\n",
    "                showgrid=True,\n",
    "                side='bottom',\n",
    "                dtick='M12',\n",
    "                tickformat='%m/%Y',\n",
    "                tickfont=dict(family='Verdana', size=12, color='#555555'),\n",
    "                tickangle=-90,\n",
    "                rangeslider_visible=True,\n",
    "                rangeselector=dict(buttons=list([dict(count=10, label='10y', step='year', stepmode='backward'),\n",
    "                                                 dict(count=5, label='5y', step='year', stepmode='backward'),\n",
    "                                                 dict(count=3, label='3y', step='year', stepmode='backward')]),\n",
    "                                   x=1, y=1, font=dict(family='Verdana', size=12, color='#555555'))),\n",
    "    yaxis=dict(title=dict(text='My work experience timeline', font=dict(family='Verdana', size=20, color='#555555')),\n",
    "               automargin=True,\n",
    "               showgrid=False, \n",
    "               showticklabels=True,\n",
    "               tickfont=dict(family='Verdana', size=12, color='#555555')),\n",
    "    showlegend=False,\n",
    "    title_xanchor='left')\n",
    "fig.write_html('timeline.html')\n",
    "go.FigureWidget(fig)"
   ]
  }
 ],
 "metadata": {
  "kernelspec": {
   "display_name": "Python 3",
   "language": "python",
   "name": "python3"
  },
  "language_info": {
   "codemirror_mode": {
    "name": "ipython",
    "version": 3
   },
   "file_extension": ".py",
   "mimetype": "text/x-python",
   "name": "python",
   "nbconvert_exporter": "python",
   "pygments_lexer": "ipython3",
   "version": "3.8.8"
  },
  "toc": {
   "base_numbering": 1,
   "nav_menu": {},
   "number_sections": true,
   "sideBar": true,
   "skip_h1_title": false,
   "title_cell": "Table of Contents",
   "title_sidebar": "Contents",
   "toc_cell": false,
   "toc_position": {},
   "toc_section_display": true,
   "toc_window_display": false
  },
  "varInspector": {
   "cols": {
    "lenName": 16,
    "lenType": 16,
    "lenVar": 40
   },
   "kernels_config": {
    "python": {
     "delete_cmd_postfix": "",
     "delete_cmd_prefix": "del ",
     "library": "var_list.py",
     "varRefreshCmd": "print(var_dic_list())"
    },
    "r": {
     "delete_cmd_postfix": ") ",
     "delete_cmd_prefix": "rm(",
     "library": "var_list.r",
     "varRefreshCmd": "cat(var_dic_list()) "
    }
   },
   "types_to_exclude": [
    "module",
    "function",
    "builtin_function_or_method",
    "instance",
    "_Feature"
   ],
   "window_display": false
  }
 },
 "nbformat": 4,
 "nbformat_minor": 2
}
